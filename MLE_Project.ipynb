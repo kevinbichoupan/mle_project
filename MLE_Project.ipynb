{
 "cells": [
  {
   "cell_type": "code",
   "execution_count": 127,
   "id": "df1e5e83",
   "metadata": {},
   "outputs": [],
   "source": [
    "import pandas as pd\n",
    "import numpy as np\n",
    "import matplotlib.pyplot as plt\n",
    "import seaborn as sns\n",
    "from datetime import datetime\n",
    "from sklearn.model_selection import train_test_split\n",
    "\n",
    "from sklearn.linear_model import LinearRegression\n",
    "from sklearn.ensemble import ExtraTreesRegressor, RandomForestRegressor, RandomForestClassifier\n",
    "from sklearn.tree import DecisionTreeRegressor\n",
    "from sklearn.metrics import r2_score, explained_variance_score,mean_absolute_error\n",
    "import math\n",
    "import yfinance as yf"
   ]
  },
  {
   "cell_type": "markdown",
   "id": "0675eb39",
   "metadata": {},
   "source": [
    "Get SP500 Data"
   ]
  },
  {
   "cell_type": "code",
   "execution_count": 128,
   "id": "1b3be677",
   "metadata": {},
   "outputs": [],
   "source": [
    "def get_sp500_list():\n",
    "    data = pd.read_csv('data/constituents_csv.csv')\n",
    "    return data\n",
    "\n",
    "sp_500 = get_sp500_list()"
   ]
  },
  {
   "cell_type": "code",
   "execution_count": 129,
   "id": "c70b65ed",
   "metadata": {},
   "outputs": [],
   "source": [
    "def get_nyse_list():\n",
    "    data = pd.read_csv('data/nyse.csv', sep = '|')\n",
    "    return data\n",
    "    \n",
    "nyse = get_nyse_list()"
   ]
  },
  {
   "cell_type": "markdown",
   "id": "52244619",
   "metadata": {},
   "source": [
    "Get Stock Prices"
   ]
  },
  {
   "cell_type": "code",
   "execution_count": 94,
   "id": "14940ca7",
   "metadata": {},
   "outputs": [
    {
     "name": "stdout",
     "output_type": "stream",
     "text": [
      "[*********************100%***********************]  1 of 1 completed\n"
     ]
    },
    {
     "data": {
      "text/html": [
       "<div>\n",
       "<style scoped>\n",
       "    .dataframe tbody tr th:only-of-type {\n",
       "        vertical-align: middle;\n",
       "    }\n",
       "\n",
       "    .dataframe tbody tr th {\n",
       "        vertical-align: top;\n",
       "    }\n",
       "\n",
       "    .dataframe thead th {\n",
       "        text-align: right;\n",
       "    }\n",
       "</style>\n",
       "<table border=\"1\" class=\"dataframe\">\n",
       "  <thead>\n",
       "    <tr style=\"text-align: right;\">\n",
       "      <th></th>\n",
       "      <th>Open</th>\n",
       "      <th>High</th>\n",
       "      <th>Low</th>\n",
       "      <th>Close</th>\n",
       "      <th>Adj Close</th>\n",
       "      <th>Volume</th>\n",
       "    </tr>\n",
       "    <tr>\n",
       "      <th>Date</th>\n",
       "      <th></th>\n",
       "      <th></th>\n",
       "      <th></th>\n",
       "      <th></th>\n",
       "      <th></th>\n",
       "      <th></th>\n",
       "    </tr>\n",
       "  </thead>\n",
       "  <tbody>\n",
       "    <tr>\n",
       "      <th>2021-04-16</th>\n",
       "      <td>134.300003</td>\n",
       "      <td>134.669998</td>\n",
       "      <td>133.279999</td>\n",
       "      <td>134.160004</td>\n",
       "      <td>133.537262</td>\n",
       "      <td>84922400</td>\n",
       "    </tr>\n",
       "    <tr>\n",
       "      <th>2021-04-19</th>\n",
       "      <td>133.509995</td>\n",
       "      <td>135.470001</td>\n",
       "      <td>133.339996</td>\n",
       "      <td>134.839996</td>\n",
       "      <td>134.214096</td>\n",
       "      <td>94264200</td>\n",
       "    </tr>\n",
       "    <tr>\n",
       "      <th>2021-04-20</th>\n",
       "      <td>135.020004</td>\n",
       "      <td>135.529999</td>\n",
       "      <td>131.809998</td>\n",
       "      <td>133.110001</td>\n",
       "      <td>132.492126</td>\n",
       "      <td>94812300</td>\n",
       "    </tr>\n",
       "    <tr>\n",
       "      <th>2021-04-21</th>\n",
       "      <td>132.360001</td>\n",
       "      <td>133.750000</td>\n",
       "      <td>131.300003</td>\n",
       "      <td>133.500000</td>\n",
       "      <td>132.880310</td>\n",
       "      <td>68847100</td>\n",
       "    </tr>\n",
       "    <tr>\n",
       "      <th>2021-04-22</th>\n",
       "      <td>133.039993</td>\n",
       "      <td>134.149994</td>\n",
       "      <td>131.410004</td>\n",
       "      <td>131.940002</td>\n",
       "      <td>131.327560</td>\n",
       "      <td>84566500</td>\n",
       "    </tr>\n",
       "  </tbody>\n",
       "</table>\n",
       "</div>"
      ],
      "text/plain": [
       "                  Open        High         Low       Close   Adj Close  \\\n",
       "Date                                                                     \n",
       "2021-04-16  134.300003  134.669998  133.279999  134.160004  133.537262   \n",
       "2021-04-19  133.509995  135.470001  133.339996  134.839996  134.214096   \n",
       "2021-04-20  135.020004  135.529999  131.809998  133.110001  132.492126   \n",
       "2021-04-21  132.360001  133.750000  131.300003  133.500000  132.880310   \n",
       "2021-04-22  133.039993  134.149994  131.410004  131.940002  131.327560   \n",
       "\n",
       "              Volume  \n",
       "Date                  \n",
       "2021-04-16  84922400  \n",
       "2021-04-19  94264200  \n",
       "2021-04-20  94812300  \n",
       "2021-04-21  68847100  \n",
       "2021-04-22  84566500  "
      ]
     },
     "execution_count": 94,
     "metadata": {},
     "output_type": "execute_result"
    }
   ],
   "source": [
    "start_date = '2021-04-16'\n",
    "end_date = '2021-10-16'\n",
    "ticker = 'AAPL'\n",
    "\n",
    "a = yf.download(ticker, start_date, end_date)\n",
    "a.head()"
   ]
  },
  {
   "cell_type": "markdown",
   "id": "86632284",
   "metadata": {},
   "source": [
    "Calculate Market Capitalization of JPMC"
   ]
  },
  {
   "cell_type": "code",
   "execution_count": 130,
   "id": "7fb4380f",
   "metadata": {},
   "outputs": [
    {
     "name": "stdout",
     "output_type": "stream",
     "text": [
      "[*********************100%***********************]  1 of 1 completed\n"
     ]
    },
    {
     "data": {
      "text/plain": [
       "2376041879.7042847"
      ]
     },
     "execution_count": 130,
     "metadata": {},
     "output_type": "execute_result"
    }
   ],
   "source": [
    "ticker = 'JPM'\n",
    "start_date = '2021-04-16'\n",
    "end_date = '2021-10-16'\n",
    "\n",
    "def calc_market_capitalization(ticker_df):\n",
    "    ticker_df['market_cap'] = ticker_df['Close'] * ticker_df['Volume']\n",
    "\n",
    "jpm_data = yf.download(ticker, start_date, end_date)\n",
    "calc_market_capitalization(jpm_data)\n",
    "\n",
    "jpm_data.iloc[-1].market_cap"
   ]
  },
  {
   "cell_type": "markdown",
   "id": "5c994fee",
   "metadata": {},
   "source": [
    "ML Model"
   ]
  },
  {
   "cell_type": "code",
   "execution_count": 101,
   "id": "104efb55",
   "metadata": {},
   "outputs": [
    {
     "name": "stdout",
     "output_type": "stream",
     "text": [
      "[*********************100%***********************]  1 of 1 completed\n",
      "[[134.16000366210938, 134.83999633789062, 133.11000061035156, 133.5, 131.94000244140625, 134.32000732421875], [134.83999633789062, 133.11000061035156, 133.5, 131.94000244140625, 134.32000732421875, 134.72000122070312]]\n"
     ]
    }
   ],
   "source": [
    "start_date = '2021-04-16'\n",
    "end_date = '2021-10-16'\n",
    "ticker = 'AAPL'\n",
    "\n",
    "aapl_data = yf.download(ticker, start_date, end_date)\n",
    "\n",
    "def make_x_and_y(close_prices, period = 6):\n",
    "    x = []\n",
    "    y = []\n",
    "    for i in range(len(close_prices) - period):\n",
    "        x.append(close_prices[i:i+period])\n",
    "        y.append(close_prices[i+period])\n",
    "    return x, y\n",
    "\n",
    "x,y = make_x_and_y(list(aapl_data.Close))\n",
    "print(x[0:2])"
   ]
  },
  {
   "cell_type": "code",
   "execution_count": 131,
   "id": "9cb904d8",
   "metadata": {},
   "outputs": [
    {
     "name": "stdout",
     "output_type": "stream",
     "text": [
      "Tomorrow's Predicted Value is :  144.20079818725586\n",
      "Today's Value is:  144.83999633789062\n"
     ]
    }
   ],
   "source": [
    "def return_model(x,y):\n",
    "    clf = RandomForestRegressor()\n",
    "    clf.fit(x,y)\n",
    "    return clf\n",
    "period = 6\n",
    "latest_feat = np.array(list(aapl_data.Close)[-period:]).reshape((1,-1))\n",
    "classifier = return_model(x,y)\n",
    "tomorrow_prediction = classifier.predict(latest_feat)\n",
    "\n",
    "print(\"Tomorrow's Predicted Value is : \", tomorrow_prediction[0])\n",
    "print(\"Today's Value is: \", aapl_data.Close[-1])"
   ]
  },
  {
   "cell_type": "code",
   "execution_count": 142,
   "id": "cd30c51a",
   "metadata": {},
   "outputs": [
    {
     "name": "stdout",
     "output_type": "stream",
     "text": [
      "\n",
      "\n",
      "\n",
      "=========================\n",
      "Machine Learning Models Training Accuracy\n",
      "\n",
      "\n",
      "Model - LinearRegression()\n",
      "Explained variance:  0.9671295198249269\n",
      "Mean absolute error:  1.3718327853180785\n",
      "R2 Score:  0.9659366459884328\n",
      "\n",
      "\n",
      "Model - DecisionTreeRegressor()\n",
      "Explained variance:  0.9497813954103168\n",
      "Mean absolute error:  1.8429023988785282\n",
      "R2 Score:  0.9407521696875253\n",
      "\n",
      "\n",
      "Model - ExtraTreesRegressor()\n",
      "Explained variance:  0.948132256827182\n",
      "Mean absolute error:  1.7661990577943862\n",
      "R2 Score:  0.9474764598151771\n",
      "\n",
      "\n",
      "Model - RandomForestRegressor()\n",
      "Explained variance:  0.95613626065873\n",
      "Mean absolute error:  1.6095508969214658\n",
      "R2 Score:  0.9546531886522663\n",
      "\n",
      "\n",
      "\n",
      "=========================\n",
      "Machine Learning Models Training Accuracy - Estimators = 200\n",
      "\n",
      "\n",
      "Model - LinearRegression()\n",
      "Explained variance:  0.9671295198249269\n",
      "Mean absolute error:  1.3718327853180785\n",
      "R2 Score:  0.9659366459884328\n",
      "\n",
      "\n",
      "Model - DecisionTreeRegressor()\n",
      "Explained variance:  0.9319605638678403\n",
      "Mean absolute error:  2.0341937157415573\n",
      "R2 Score:  0.9289000570611551\n",
      "\n",
      "\n",
      "Model - ExtraTreesRegressor()\n",
      "Explained variance:  0.9501342526003345\n",
      "Mean absolute error:  1.7868793364494076\n",
      "R2 Score:  0.9484128010718893\n",
      "\n",
      "\n",
      "Model - RandomForestRegressor(n_estimators=200)\n",
      "Explained variance:  0.956576579052619\n",
      "Mean absolute error:  1.5883429718017588\n",
      "R2 Score:  0.9552746408249765\n"
     ]
    }
   ],
   "source": [
    "regressor_list = [LinearRegression(), DecisionTreeRegressor(), ExtraTreesRegressor(), RandomForestRegressor()]\n",
    "regressor_list2 = [LinearRegression(), DecisionTreeRegressor(), ExtraTreesRegressor(), RandomForestRegressor(n_estimators = 200)]\n",
    "\n",
    "\n",
    "def make_x_and_y(close_prices, period = 6):\n",
    "    x = []\n",
    "    y = []\n",
    "    for i in range(len(close_prices) - period):\n",
    "        x.append(close_prices[i:i+period])\n",
    "        y.append(close_prices[i+period])\n",
    "    return x, y\n",
    "\n",
    "def dynamic_return_model(model, x, y):\n",
    "    clf = model\n",
    "    clf.fit(x,y)\n",
    "    return clf\n",
    "\n",
    "def train_model_return_accuracy(stock_data, model):\n",
    "    x,y = make_x_and_y(list(stock_data.Close))\n",
    "    X_train, X_test, y_train, y_test = train_test_split(x, y, random_state = 42)\n",
    "    classifier = dynamic_return_model(model, X_train, y_train)\n",
    "    y_pred = []\n",
    "    for i in X_test:\n",
    "        feat = np.array(i).reshape((1,-1))\n",
    "        y_pred_latest = classifier.predict(feat)\n",
    "        y_pred.append(y_pred_latest[0])\n",
    "    print(\"\\n\")\n",
    "    print(\"Model - \" + str(model))\n",
    "    print(\"Explained variance: \", explained_variance_score(y_test,y_pred))\n",
    "    print(\"Mean absolute error: \", mean_absolute_error(y_test, y_pred))\n",
    "    print(\"R2 Score: \", r2_score(y_test, y_pred))\n",
    "\n",
    "\n",
    "print(\"\\n\\n\\n\" + \"=\"*25)\n",
    "print(\"Machine Learning Models Training Accuracy\")\n",
    "for i in regressor_list:\n",
    "    train_model_return_accuracy(aapl_data, i)\n",
    "\n",
    "print(\"\\n\\n\\n\" + \"=\"*25)\n",
    "print(\"Machine Learning Models Training Accuracy - Estimators = 200\")\n",
    "for i in regressor_list2:\n",
    "    train_model_return_accuracy(aapl_data,i)"
   ]
  },
  {
   "cell_type": "markdown",
   "id": "ec2956ea",
   "metadata": {},
   "source": [
    "Calculate Volatilities of Stocks"
   ]
  },
  {
   "cell_type": "code",
   "execution_count": 140,
   "id": "3baf44cf",
   "metadata": {},
   "outputs": [],
   "source": [
    "%%capture\n",
    "\n",
    "start_date = '2021-04-16'\n",
    "end_date = '2021-10-16'\n",
    "\n",
    "aapl_data = yf.download('AAPL', start_date, end_date)\n",
    "amzn_data = yf.download('AMZN', start_date, end_date)\n",
    "msft_data = yf.download('MSFT', start_date, end_date)\n",
    "googl_data = yf.download('GOOGL', start_date, end_date)"
   ]
  },
  {
   "cell_type": "code",
   "execution_count": 141,
   "id": "62590bc7",
   "metadata": {},
   "outputs": [
    {
     "name": "stdout",
     "output_type": "stream",
     "text": [
      "Volatilities of different stocks are given below: \n",
      "Apple:  9.233734657334155\n",
      "Amazon:  141.97649240808988\n",
      "Microsoft:  20.06743208743851\n",
      "Google:  210.33354967113846\n"
     ]
    }
   ],
   "source": [
    "print(\"Volatilities of different stocks are given below: \")\n",
    "print(\"Apple: \", aapl_data.Close.std())\n",
    "print(\"Amazon: \", amzn_data.Close.std())\n",
    "print(\"Microsoft: \", msft_data.Close.std())\n",
    "print(\"Google: \", googl_data.Close.std())"
   ]
  },
  {
   "cell_type": "code",
   "execution_count": 134,
   "id": "6e3ebd35",
   "metadata": {},
   "outputs": [],
   "source": [
    "sp_500_1 = sp_500.head()"
   ]
  },
  {
   "cell_type": "code",
   "execution_count": 135,
   "id": "f9161d57",
   "metadata": {},
   "outputs": [
    {
     "data": {
      "text/html": [
       "<div>\n",
       "<style scoped>\n",
       "    .dataframe tbody tr th:only-of-type {\n",
       "        vertical-align: middle;\n",
       "    }\n",
       "\n",
       "    .dataframe tbody tr th {\n",
       "        vertical-align: top;\n",
       "    }\n",
       "\n",
       "    .dataframe thead th {\n",
       "        text-align: right;\n",
       "    }\n",
       "</style>\n",
       "<table border=\"1\" class=\"dataframe\">\n",
       "  <thead>\n",
       "    <tr style=\"text-align: right;\">\n",
       "      <th></th>\n",
       "      <th>Symbol</th>\n",
       "      <th>Name</th>\n",
       "      <th>Sector</th>\n",
       "    </tr>\n",
       "  </thead>\n",
       "  <tbody>\n",
       "    <tr>\n",
       "      <th>0</th>\n",
       "      <td>MMM</td>\n",
       "      <td>3M</td>\n",
       "      <td>Industrials</td>\n",
       "    </tr>\n",
       "    <tr>\n",
       "      <th>1</th>\n",
       "      <td>AOS</td>\n",
       "      <td>A. O. Smith</td>\n",
       "      <td>Industrials</td>\n",
       "    </tr>\n",
       "    <tr>\n",
       "      <th>2</th>\n",
       "      <td>ABT</td>\n",
       "      <td>Abbott Laboratories</td>\n",
       "      <td>Health Care</td>\n",
       "    </tr>\n",
       "    <tr>\n",
       "      <th>3</th>\n",
       "      <td>ABBV</td>\n",
       "      <td>AbbVie</td>\n",
       "      <td>Health Care</td>\n",
       "    </tr>\n",
       "    <tr>\n",
       "      <th>4</th>\n",
       "      <td>ABMD</td>\n",
       "      <td>Abiomed</td>\n",
       "      <td>Health Care</td>\n",
       "    </tr>\n",
       "  </tbody>\n",
       "</table>\n",
       "</div>"
      ],
      "text/plain": [
       "  Symbol                 Name       Sector\n",
       "0    MMM                   3M  Industrials\n",
       "1    AOS          A. O. Smith  Industrials\n",
       "2    ABT  Abbott Laboratories  Health Care\n",
       "3   ABBV               AbbVie  Health Care\n",
       "4   ABMD              Abiomed  Health Care"
      ]
     },
     "execution_count": 135,
     "metadata": {},
     "output_type": "execute_result"
    }
   ],
   "source": [
    "sp_500_1"
   ]
  },
  {
   "cell_type": "code",
   "execution_count": 137,
   "id": "f296736f",
   "metadata": {},
   "outputs": [],
   "source": [
    "%%capture\n",
    "sp_500_1['Volatility_Close'] = sp_500_1.apply(lambda x: yf.download(x['Symbol'], start_date, end_date).Close.std(), axis = 1)\n",
    "sp_500_1['Volatility_Open'] = sp_500_1.apply(lambda x: yf.download(x['Symbol'], start_date, end_date).Open.std(), axis = 1)\n",
    "\n"
   ]
  },
  {
   "cell_type": "code",
   "execution_count": 138,
   "id": "d1e817f7",
   "metadata": {},
   "outputs": [
    {
     "data": {
      "text/html": [
       "<div>\n",
       "<style scoped>\n",
       "    .dataframe tbody tr th:only-of-type {\n",
       "        vertical-align: middle;\n",
       "    }\n",
       "\n",
       "    .dataframe tbody tr th {\n",
       "        vertical-align: top;\n",
       "    }\n",
       "\n",
       "    .dataframe thead th {\n",
       "        text-align: right;\n",
       "    }\n",
       "</style>\n",
       "<table border=\"1\" class=\"dataframe\">\n",
       "  <thead>\n",
       "    <tr style=\"text-align: right;\">\n",
       "      <th></th>\n",
       "      <th>Symbol</th>\n",
       "      <th>Name</th>\n",
       "      <th>Sector</th>\n",
       "      <th>Volatility_Close</th>\n",
       "      <th>Volatility_Open</th>\n",
       "    </tr>\n",
       "  </thead>\n",
       "  <tbody>\n",
       "    <tr>\n",
       "      <th>0</th>\n",
       "      <td>MMM</td>\n",
       "      <td>3M</td>\n",
       "      <td>Industrials</td>\n",
       "      <td>8.610289</td>\n",
       "      <td>8.545207</td>\n",
       "    </tr>\n",
       "    <tr>\n",
       "      <th>1</th>\n",
       "      <td>AOS</td>\n",
       "      <td>A. O. Smith</td>\n",
       "      <td>Industrials</td>\n",
       "      <td>2.854853</td>\n",
       "      <td>2.817999</td>\n",
       "    </tr>\n",
       "    <tr>\n",
       "      <th>2</th>\n",
       "      <td>ABT</td>\n",
       "      <td>Abbott Laboratories</td>\n",
       "      <td>Health Care</td>\n",
       "      <td>5.347175</td>\n",
       "      <td>5.399847</td>\n",
       "    </tr>\n",
       "    <tr>\n",
       "      <th>3</th>\n",
       "      <td>ABBV</td>\n",
       "      <td>AbbVie</td>\n",
       "      <td>Health Care</td>\n",
       "      <td>3.815940</td>\n",
       "      <td>3.863010</td>\n",
       "    </tr>\n",
       "    <tr>\n",
       "      <th>4</th>\n",
       "      <td>ABMD</td>\n",
       "      <td>Abiomed</td>\n",
       "      <td>Health Care</td>\n",
       "      <td>26.571635</td>\n",
       "      <td>26.549412</td>\n",
       "    </tr>\n",
       "  </tbody>\n",
       "</table>\n",
       "</div>"
      ],
      "text/plain": [
       "  Symbol                 Name       Sector  Volatility_Close  Volatility_Open\n",
       "0    MMM                   3M  Industrials          8.610289         8.545207\n",
       "1    AOS          A. O. Smith  Industrials          2.854853         2.817999\n",
       "2    ABT  Abbott Laboratories  Health Care          5.347175         5.399847\n",
       "3   ABBV               AbbVie  Health Care          3.815940         3.863010\n",
       "4   ABMD              Abiomed  Health Care         26.571635        26.549412"
      ]
     },
     "execution_count": 138,
     "metadata": {},
     "output_type": "execute_result"
    }
   ],
   "source": [
    "sp_500_1"
   ]
  },
  {
   "cell_type": "code",
   "execution_count": 120,
   "id": "3b124e1d",
   "metadata": {},
   "outputs": [],
   "source": [
    "%%capture\n",
    "sp_500['Volatility_Close'] = sp_500.apply(lambda x: get_stock_data(x['Symbol'], start_date, end_date).Close.std(), axis = 1)\n",
    "sp_500['Volatility_Open'] = sp_500.apply(lambda x: get_stock_data(x['Symbol'], start_date, end_date).Open.std(), axis = 1)\n"
   ]
  },
  {
   "cell_type": "code",
   "execution_count": 125,
   "id": "dbd662ba",
   "metadata": {},
   "outputs": [
    {
     "data": {
      "text/html": [
       "<div>\n",
       "<style scoped>\n",
       "    .dataframe tbody tr th:only-of-type {\n",
       "        vertical-align: middle;\n",
       "    }\n",
       "\n",
       "    .dataframe tbody tr th {\n",
       "        vertical-align: top;\n",
       "    }\n",
       "\n",
       "    .dataframe thead th {\n",
       "        text-align: right;\n",
       "    }\n",
       "</style>\n",
       "<table border=\"1\" class=\"dataframe\">\n",
       "  <thead>\n",
       "    <tr style=\"text-align: right;\">\n",
       "      <th></th>\n",
       "      <th>Symbol</th>\n",
       "      <th>Name</th>\n",
       "      <th>Sector</th>\n",
       "      <th>Volatility_Close</th>\n",
       "      <th>Volatility_Open</th>\n",
       "    </tr>\n",
       "  </thead>\n",
       "  <tbody>\n",
       "    <tr>\n",
       "      <th>105</th>\n",
       "      <td>CMG</td>\n",
       "      <td>Chipotle Mexican Grill</td>\n",
       "      <td>Consumer Discretionary</td>\n",
       "      <td>225.519841</td>\n",
       "      <td>225.774068</td>\n",
       "    </tr>\n",
       "    <tr>\n",
       "      <th>23</th>\n",
       "      <td>GOOGL</td>\n",
       "      <td>Alphabet (Class A)</td>\n",
       "      <td>Communication Services</td>\n",
       "      <td>210.333550</td>\n",
       "      <td>210.322541</td>\n",
       "    </tr>\n",
       "    <tr>\n",
       "      <th>24</th>\n",
       "      <td>GOOG</td>\n",
       "      <td>Alphabet (Class C)</td>\n",
       "      <td>Communication Services</td>\n",
       "      <td>196.995962</td>\n",
       "      <td>197.645311</td>\n",
       "    </tr>\n",
       "    <tr>\n",
       "      <th>345</th>\n",
       "      <td>NVR</td>\n",
       "      <td>NVR</td>\n",
       "      <td>Consumer Discretionary</td>\n",
       "      <td>172.642158</td>\n",
       "      <td>172.513568</td>\n",
       "    </tr>\n",
       "    <tr>\n",
       "      <th>26</th>\n",
       "      <td>AMZN</td>\n",
       "      <td>Amazon</td>\n",
       "      <td>Consumer Discretionary</td>\n",
       "      <td>141.976492</td>\n",
       "      <td>140.946229</td>\n",
       "    </tr>\n",
       "  </tbody>\n",
       "</table>\n",
       "</div>"
      ],
      "text/plain": [
       "    Symbol                    Name                  Sector  Volatility_Close  \\\n",
       "105    CMG  Chipotle Mexican Grill  Consumer Discretionary        225.519841   \n",
       "23   GOOGL      Alphabet (Class A)  Communication Services        210.333550   \n",
       "24    GOOG      Alphabet (Class C)  Communication Services        196.995962   \n",
       "345    NVR                     NVR  Consumer Discretionary        172.642158   \n",
       "26    AMZN                  Amazon  Consumer Discretionary        141.976492   \n",
       "\n",
       "     Volatility_Open  \n",
       "105       225.774068  \n",
       "23        210.322541  \n",
       "24        197.645311  \n",
       "345       172.513568  \n",
       "26        140.946229  "
      ]
     },
     "execution_count": 125,
     "metadata": {},
     "output_type": "execute_result"
    }
   ],
   "source": [
    "sp_500.sort_values(['Volatility_Close'], ascending = False).head()"
   ]
  },
  {
   "cell_type": "code",
   "execution_count": 126,
   "id": "7d8e7b00",
   "metadata": {},
   "outputs": [
    {
     "data": {
      "text/html": [
       "<div>\n",
       "<style scoped>\n",
       "    .dataframe tbody tr th:only-of-type {\n",
       "        vertical-align: middle;\n",
       "    }\n",
       "\n",
       "    .dataframe tbody tr th {\n",
       "        vertical-align: top;\n",
       "    }\n",
       "\n",
       "    .dataframe thead th {\n",
       "        text-align: right;\n",
       "    }\n",
       "</style>\n",
       "<table border=\"1\" class=\"dataframe\">\n",
       "  <thead>\n",
       "    <tr style=\"text-align: right;\">\n",
       "      <th></th>\n",
       "      <th>Symbol</th>\n",
       "      <th>Name</th>\n",
       "      <th>Sector</th>\n",
       "      <th>Volatility_Close</th>\n",
       "      <th>Volatility_Open</th>\n",
       "    </tr>\n",
       "  </thead>\n",
       "  <tbody>\n",
       "    <tr>\n",
       "      <th>105</th>\n",
       "      <td>CMG</td>\n",
       "      <td>Chipotle Mexican Grill</td>\n",
       "      <td>Consumer Discretionary</td>\n",
       "      <td>225.519841</td>\n",
       "      <td>225.774068</td>\n",
       "    </tr>\n",
       "    <tr>\n",
       "      <th>23</th>\n",
       "      <td>GOOGL</td>\n",
       "      <td>Alphabet (Class A)</td>\n",
       "      <td>Communication Services</td>\n",
       "      <td>210.333550</td>\n",
       "      <td>210.322541</td>\n",
       "    </tr>\n",
       "    <tr>\n",
       "      <th>24</th>\n",
       "      <td>GOOG</td>\n",
       "      <td>Alphabet (Class C)</td>\n",
       "      <td>Communication Services</td>\n",
       "      <td>196.995962</td>\n",
       "      <td>197.645311</td>\n",
       "    </tr>\n",
       "    <tr>\n",
       "      <th>345</th>\n",
       "      <td>NVR</td>\n",
       "      <td>NVR</td>\n",
       "      <td>Consumer Discretionary</td>\n",
       "      <td>172.642158</td>\n",
       "      <td>172.513568</td>\n",
       "    </tr>\n",
       "    <tr>\n",
       "      <th>26</th>\n",
       "      <td>AMZN</td>\n",
       "      <td>Amazon</td>\n",
       "      <td>Consumer Discretionary</td>\n",
       "      <td>141.976492</td>\n",
       "      <td>140.946229</td>\n",
       "    </tr>\n",
       "  </tbody>\n",
       "</table>\n",
       "</div>"
      ],
      "text/plain": [
       "    Symbol                    Name                  Sector  Volatility_Close  \\\n",
       "105    CMG  Chipotle Mexican Grill  Consumer Discretionary        225.519841   \n",
       "23   GOOGL      Alphabet (Class A)  Communication Services        210.333550   \n",
       "24    GOOG      Alphabet (Class C)  Communication Services        196.995962   \n",
       "345    NVR                     NVR  Consumer Discretionary        172.642158   \n",
       "26    AMZN                  Amazon  Consumer Discretionary        141.976492   \n",
       "\n",
       "     Volatility_Open  \n",
       "105       225.774068  \n",
       "23        210.322541  \n",
       "24        197.645311  \n",
       "345       172.513568  \n",
       "26        140.946229  "
      ]
     },
     "execution_count": 126,
     "metadata": {},
     "output_type": "execute_result"
    }
   ],
   "source": [
    "sp_500.sort_values(['Volatility_Open'], ascending = False).head()"
   ]
  },
  {
   "cell_type": "markdown",
   "id": "fad730d3",
   "metadata": {},
   "source": [
    "Putting it all together\n",
    "==="
   ]
  },
  {
   "cell_type": "code",
   "execution_count": 216,
   "id": "0204ac2b",
   "metadata": {},
   "outputs": [
    {
     "name": "stdout",
     "output_type": "stream",
     "text": [
      "How many stocks do you want to analyse? Enter at least 10 and max 500\n",
      "10\n",
      "Which stock list would you like to analyse? \n",
      " Enter 1 for S&P500 \n",
      " Enter 2 for NYSE \n",
      "1\n",
      "Currently, analysing MMM.........\n",
      "[*********************100%***********************]  1 of 1 completed\n",
      "Currently, analysing AOS.........\n",
      "[*********************100%***********************]  1 of 1 completed\n",
      "Currently, analysing ABT.........\n",
      "[*********************100%***********************]  1 of 1 completed\n",
      "Currently, analysing ABBV.........\n",
      "[*********************100%***********************]  1 of 1 completed\n",
      "Currently, analysing ABMD.........\n",
      "[*********************100%***********************]  1 of 1 completed\n",
      "Currently, analysing ACN.........\n",
      "[*********************100%***********************]  1 of 1 completed\n",
      "Currently, analysing ATVI.........\n",
      "[*********************100%***********************]  1 of 1 completed\n",
      "Currently, analysing ADM.........\n",
      "[*********************100%***********************]  1 of 1 completed\n",
      "Currently, analysing ADBE.........\n",
      "[*********************100%***********************]  1 of 1 completed\n",
      "Currently, analysing AAP.........\n",
      "[*********************100%***********************]  1 of 1 completed\n",
      "Which strategy do you want to use? \n",
      " Enter 1 for Conservative \n",
      " Enter 2 for Aggressive\n",
      "2\n",
      "Top aggressive stocks are ...\n",
      "  symbol  volatility       today    tomorrow\n",
      "8   ADBE   60.191077  610.090027  612.105989\n",
      "4   ABMD   26.571635  351.369995  351.877541\n",
      "5    ACN   21.221334  341.820007  341.935149\n",
      "3   ABBV    3.815940  109.330002  109.597195\n",
      "7    ADM    3.112095   63.950001   64.024099\n"
     ]
    }
   ],
   "source": [
    "how_many_stocks = input(\"How many stocks do you want to analyse? Enter at least 10 and max 500\\n\")\n",
    "correct = False\n",
    "while not correct:\n",
    "    try:\n",
    "        how_many_stocks = int(how_many_stocks)\n",
    "        if how_many_stocks > 500 or how_many_stocks < 10:\n",
    "            raise ValueError\n",
    "        correct = True\n",
    "    except:\n",
    "        print(\"Please enter a correct number. \")\n",
    "        how_many_stocks = input(\"How many stocks do you want to analyse? Enter at least 10 and max 500\\n\")\n",
    "\n",
    "which_dataset = input(\"Which stock list would you like to analyse? \\n Enter 1 for S&P500 \\n Enter 2 for NYSE \\n\")\n",
    "selected = False\n",
    "while not selected:\n",
    "    if which_dataset == \"1\":\n",
    "        data = get_sp500_list()\n",
    "        selected = True\n",
    "    elif which_dataset == \"2\":\n",
    "        data = get_nyse_list()\n",
    "        data.columns = ['Symbol', 'Security Name', 'Exchange', 'CQS Symbol', 'ETF',\n",
    "       'Round Lot Size', 'Test Issue', 'NASDAQ Symbol']\n",
    "        selected = True\n",
    "    else:\n",
    "        print(\"Please enter a correct number. \")\n",
    "        which_dataset = input(\"Which stock list would you like to analyse? \\n Enter 1 for S&P500 \\n Enter 2 for NYSE \\n\")\n",
    "\n",
    "listOfSymbols = []\n",
    "for symbol in data.Symbol:\n",
    "    listOfSymbols.append(symbol)\n",
    "\n",
    "symbols_not_found = [\"BRK.B\", \"OGN\", \"BF.B\"]\n",
    "\n",
    "today = '2021-10-17'\n",
    "\n",
    "def make_x_and_y(close_prices,period = 6):\n",
    "    x = []\n",
    "    y = []\n",
    "    for i in range(len(close_prices)-period):\n",
    "        x.append(close_prices[i:i+period])\n",
    "        y.append(close_prices[i+period])\n",
    "    return x,y\n",
    "\n",
    "def return_model(x,y):\n",
    "    clf = LinearRegression()\n",
    "    clf.fit(x,y)\n",
    "    return clf\n",
    "\n",
    "period = 6\n",
    "predicted_prices_for_tomorrow = []\n",
    "today_prices = []\n",
    "volatility_for_stocks = []\n",
    "new_symbols_for_df = []\n",
    "for i in range(0,how_many_stocks):\n",
    "    current_symbol = listOfSymbols[i]\n",
    "    #getting the past 6 months of data\n",
    "    if current_symbol not in symbols_not_found:\n",
    "        print(\"Currently, analysing \" + current_symbol + \".........\")\n",
    "        try:\n",
    "            current_data = yf.download(current_symbol,start = '2021-04-16', end = '2021-10-16')\n",
    "            close_prices = current_data.Close\n",
    "            volatility = close_prices.std()\n",
    "            features,dependent_variable = make_x_and_y(list(close_prices))\n",
    "            features = np.array(features)\n",
    "            dependent_variable = np.array(dependent_variable)\n",
    "            clf = return_model(features,dependent_variable)\n",
    "            latest_feat = np.array(list(close_prices)[-period:]).reshape((1,-1))\n",
    "            tomorrow_prediction =clf.predict(latest_feat)\n",
    "            \n",
    "            if len(current_data) > 0:\n",
    "                new_symbols_for_df.append(current_symbol)\n",
    "                volatility_for_stocks.append(volatility)\n",
    "                predicted_prices_for_tomorrow.append(tomorrow_prediction[0])\n",
    "                today_prices.append(close_prices[-1])\n",
    "            \n",
    "        except:\n",
    "            print(\"Ticker symbol cannot be found .... \")\n",
    "\n",
    "full_data = pd.DataFrame({'symbol':new_symbols_for_df, 'volatility':volatility_for_stocks, 'today':today_prices, 'tomorrow':predicted_prices_for_tomorrow})\n",
    "\n",
    "strategy = input('Which strategy do you want to use? \\n Enter 1 for Conservative \\n Enter 2 for Aggressive\\n')\n",
    "has_given_response = False\n",
    "while not has_given_response:\n",
    "    if strategy == \"1\":\n",
    "        has_given_response = True\n",
    "        new = full_data.sort_values(by = 'volatility', ascending = True)\n",
    "        new = new[new.tomorrow > new.today]\n",
    "        print(\"Top conservative stocks are ...\")\n",
    "        print(new.head())\n",
    "    elif strategy == \"2\":\n",
    "        has_given_response = True\n",
    "        new = full_data.sort_values(by = 'volatility', ascending = False)\n",
    "        new = new[new.tomorrow > new.today]\n",
    "        print(\"Top aggressive stocks are ...\")\n",
    "        print(new.head())\n",
    "    else: \n",
    "        print(\"Please enter a correct number. \")\n",
    "        strategy = input('Which strategy do you want to use? \\n Enter 1 for Conservative \\n Enter 2 for Aggressive\\n')\n",
    "\n",
    "    "
   ]
  },
  {
   "cell_type": "code",
   "execution_count": 214,
   "id": "d7d96ce7",
   "metadata": {},
   "outputs": [
    {
     "data": {
      "text/plain": [
       "0"
      ]
     },
     "execution_count": 214,
     "metadata": {},
     "output_type": "execute_result"
    }
   ],
   "source": [
    "len(current_data)"
   ]
  },
  {
   "cell_type": "code",
   "execution_count": 200,
   "id": "e0f7b6e3",
   "metadata": {},
   "outputs": [
    {
     "data": {
      "text/plain": [
       "['A', 'AA', 'AAA', 'AAAU', 'AAC', 'AAC.U', 'AAC.W', 'AAIC', 'AAIC$B', 'AAIC$C']"
      ]
     },
     "execution_count": 200,
     "metadata": {},
     "output_type": "execute_result"
    }
   ],
   "source": [
    "new_symbols_for_df"
   ]
  },
  {
   "cell_type": "code",
   "execution_count": 207,
   "id": "a2af1431",
   "metadata": {},
   "outputs": [
    {
     "data": {
      "text/plain": [
       "[14.496020322379472,\n",
       " 5.345666905904348,\n",
       " 0.013108721907684919,\n",
       " 0.4394251917012928,\n",
       " 0.043459823123088596,\n",
       " nan,\n",
       " nan,\n",
       " 0.14610419064853059,\n",
       " nan,\n",
       " nan]"
      ]
     },
     "execution_count": 207,
     "metadata": {},
     "output_type": "execute_result"
    }
   ],
   "source": [
    "volatility_for_stocks"
   ]
  },
  {
   "cell_type": "code",
   "execution_count": 210,
   "id": "4f868c9b",
   "metadata": {},
   "outputs": [
    {
     "data": {
      "text/plain": [
       "[153.27000427246094,\n",
       " 56.0,\n",
       " 25.0,\n",
       " 17.579999923706055,\n",
       " 9.739999771118164,\n",
       " 3.930000066757202]"
      ]
     },
     "execution_count": 210,
     "metadata": {},
     "output_type": "execute_result"
    }
   ],
   "source": [
    "today_prices"
   ]
  },
  {
   "cell_type": "code",
   "execution_count": 211,
   "id": "07e2c40c",
   "metadata": {},
   "outputs": [
    {
     "data": {
      "text/plain": [
       "[152.98880279541015,\n",
       " 49.689500427246095,\n",
       " 25.000616718928022,\n",
       " 17.60329990386963,\n",
       " 9.738299741744996,\n",
       " 3.898599967956543]"
      ]
     },
     "execution_count": 211,
     "metadata": {},
     "output_type": "execute_result"
    }
   ],
   "source": [
    "predicted_prices_for_tomorrow"
   ]
  },
  {
   "cell_type": "markdown",
   "id": "4670448f",
   "metadata": {},
   "source": [
    "PART 2\n",
    "==================="
   ]
  },
  {
   "cell_type": "code",
   "execution_count": 73,
   "id": "74d43420",
   "metadata": {},
   "outputs": [],
   "source": [
    "def calculate_label(parameter):\n",
    "    changes = []\n",
    "    for j in range(len(parameter) - 1):\n",
    "        changes.append(parameter[j+1] - parameter[j])\n",
    "    for i in changes:\n",
    "        if i > 0:\n",
    "            return 1\n",
    "        elif i < 0:\n",
    "            return -1\n",
    "        elif i == 0:\n",
    "            return 0\n",
    "\n",
    "def make_x_and_y(close_prices, period = 6, in_future = 7):\n",
    "    x = []\n",
    "    y = []\n",
    "    for i in range(len(close_prices) - period - in_future):\n",
    "        x.append(close_prices[i:i+period])\n",
    "        l = list(close_prices[i + period : i + period + in_future])\n",
    "        y.append(calculate_label(l))\n",
    "    return x, y\n",
    "\n",
    "def get_user_selected_stocks():\n",
    "    u = input(\"Please enter the tickers of stocks seperated by space..\")\n",
    "    return u.split(\" \")\n",
    "\n",
    "def get_user_stock_weights():\n",
    "    u = input(\"Please enter the % of your income (format as 0.###) that you wish to allocate funds to your selected stocks separated by space..\")\n",
    "    return u.split(\" \")\n",
    "\n",
    "def user_selected_analysis_market_cap(selected, income):\n",
    "    market_cap = []\n",
    "    closing_price = []\n",
    "    for symbol in selected:\n",
    "        current_data = yf.download(symbol, start='2021-09-16', end = '2021-10-16')\n",
    "        closing_price.append(current_data.Close[-1])\n",
    "        market_cap.append(current_data.Close[-1]*current_data.Volume[-1])\n",
    "    s = sum(market_cap)\n",
    "    stocks_to_purchase = []\n",
    "    for i,cap in enumerate(market_cap):\n",
    "        portion = (income * cap)/s\n",
    "        stocks_to_purchase.append(math.floor(portion / closing_price[i]))\n",
    "    df = pd.DataFrame({\"Ticker\" : selected, \"shares_to_buy\" : stocks_to_purchase})\n",
    "    return df\n",
    "\n",
    "\n",
    "def user_selected_analysis_equal_weight(selected, income):\n",
    "    closing_price = []\n",
    "    for symbol in selected:\n",
    "        current_data = yf.download(symbol, start='2021-09-16', end = '2021-10-16')\n",
    "        closing_price.append(current_data.Close[-1])\n",
    "    s = len(selected)\n",
    "    stocks_to_purchase = []\n",
    "    for i, closing in enumerate(closing_price):\n",
    "        buying_power = (income)/s\n",
    "        stocks_to_purchase.append(math.floor(buying_power / closing_price[i]))\n",
    "    df = pd.DataFrame({\"Ticker\" : selected, \"shares_to_buy\" : stocks_to_purchase, \"closing_price\" : closing_price})\n",
    "    return df\n",
    "\n",
    "def user_selected_analysis_user_weight(selected, income):\n",
    "    price_ratio = []\n",
    "    closing_price = []\n",
    "    for symbol in selected:\n",
    "        current_data = yf.download(symbol, start='2021-09-16', end = '2021-10-16')\n",
    "        closing_price.append(current_data.Close[-1])\n",
    "        price_ratio.append(current_data.Close[-1]/closing_price[0])\n",
    "    s = sum(price_ratio)\n",
    "    stocks_to_purchase = []\n",
    "    for i,ratio in enumerate(price_ratio):\n",
    "        portion = (income * ratio)/s\n",
    "        stocks_to_purchase.append(math.floor(portion / closing_price[i]))\n",
    "    df = pd.DataFrame({\"Ticker\" : selected, \"shares_to_buy\" : stocks_to_purchase, \"closing_price\" : closing_price})\n",
    "    return df\n",
    "\n",
    "def user_selected_analysis_user_weight(selected, weights, income):\n",
    "    \n",
    "    if len(selected) != len(weights):\n",
    "        print(\"List of stocks selected and the weights provided not the same length\")\n",
    "        return\n",
    "    \n",
    "    closing_price = []\n",
    "    for symbol in selected:\n",
    "        current_data = yf.download(symbol, start='2021-09-16', end = '2021-10-16')\n",
    "        closing_price.append(current_data.Close[-1])\n",
    "    \n",
    "    stocks_to_purchase = []\n",
    "    for i, weight in enumerate(weights):\n",
    "        buying_power = income*float(weight)\n",
    "        stocks_to_purchase.append(math.floor(buying_power / closing_price[i]))\n",
    "    \n",
    "    df = pd.DataFrame({\"Ticker\" : selected, \"shares_to_buy\" : stocks_to_purchase, \"closing_price\" : closing_price})\n",
    "    return df\n",
    "\n",
    "\n",
    "        "
   ]
  },
  {
   "cell_type": "code",
   "execution_count": 33,
   "id": "168d43af",
   "metadata": {},
   "outputs": [
    {
     "name": "stdout",
     "output_type": "stream",
     "text": [
      "Please enter the tickers of stocks seperated by space..AAPL MSFT GOOG\n",
      "[*********************100%***********************]  1 of 1 completed\n",
      "[*********************100%***********************]  1 of 1 completed\n",
      "[*********************100%***********************]  1 of 1 completed\n"
     ]
    },
    {
     "data": {
      "text/html": [
       "<div>\n",
       "<style scoped>\n",
       "    .dataframe tbody tr th:only-of-type {\n",
       "        vertical-align: middle;\n",
       "    }\n",
       "\n",
       "    .dataframe tbody tr th {\n",
       "        vertical-align: top;\n",
       "    }\n",
       "\n",
       "    .dataframe thead th {\n",
       "        text-align: right;\n",
       "    }\n",
       "</style>\n",
       "<table border=\"1\" class=\"dataframe\">\n",
       "  <thead>\n",
       "    <tr style=\"text-align: right;\">\n",
       "      <th></th>\n",
       "      <th>Ticker</th>\n",
       "      <th>shares_to_buy</th>\n",
       "      <th>closing_price</th>\n",
       "      <th>buying_amount</th>\n",
       "    </tr>\n",
       "  </thead>\n",
       "  <tbody>\n",
       "    <tr>\n",
       "      <th>0</th>\n",
       "      <td>AAPL</td>\n",
       "      <td>99453</td>\n",
       "      <td>144.839996</td>\n",
       "      <td>1.440477e+07</td>\n",
       "    </tr>\n",
       "    <tr>\n",
       "      <th>1</th>\n",
       "      <td>MSFT</td>\n",
       "      <td>47351</td>\n",
       "      <td>304.209991</td>\n",
       "      <td>1.440465e+07</td>\n",
       "    </tr>\n",
       "    <tr>\n",
       "      <th>2</th>\n",
       "      <td>GOOG</td>\n",
       "      <td>5083</td>\n",
       "      <td>2833.500000</td>\n",
       "      <td>1.440268e+07</td>\n",
       "    </tr>\n",
       "  </tbody>\n",
       "</table>\n",
       "</div>"
      ],
      "text/plain": [
       "  Ticker  shares_to_buy  closing_price  buying_amount\n",
       "0   AAPL          99453     144.839996   1.440477e+07\n",
       "1   MSFT          47351     304.209991   1.440465e+07\n",
       "2   GOOG           5083    2833.500000   1.440268e+07"
      ]
     },
     "execution_count": 33,
     "metadata": {},
     "output_type": "execute_result"
    }
   ],
   "source": [
    "a = user_selected_analysis_equal_weight(get_user_selected_stocks(), 43214321)\n",
    "a['buying_amount'] = a.shares_to_buy * a.closing_price\n",
    "a"
   ]
  },
  {
   "cell_type": "code",
   "execution_count": 77,
   "id": "26ab9758",
   "metadata": {},
   "outputs": [
    {
     "name": "stdout",
     "output_type": "stream",
     "text": [
      "Please enter the tickers of stocks seperated by space..AAPL MSFT GOOG\n",
      "Please enter the % of your income (format as 0.###) that you wish to allocate funds to your selected stocks separated by space...4 .2 .4\n",
      "[*********************100%***********************]  1 of 1 completed\n",
      "[*********************100%***********************]  1 of 1 completed\n",
      "[*********************100%***********************]  1 of 1 completed\n"
     ]
    },
    {
     "data": {
      "text/html": [
       "<div>\n",
       "<style scoped>\n",
       "    .dataframe tbody tr th:only-of-type {\n",
       "        vertical-align: middle;\n",
       "    }\n",
       "\n",
       "    .dataframe tbody tr th {\n",
       "        vertical-align: top;\n",
       "    }\n",
       "\n",
       "    .dataframe thead th {\n",
       "        text-align: right;\n",
       "    }\n",
       "</style>\n",
       "<table border=\"1\" class=\"dataframe\">\n",
       "  <thead>\n",
       "    <tr style=\"text-align: right;\">\n",
       "      <th></th>\n",
       "      <th>Ticker</th>\n",
       "      <th>shares_to_buy</th>\n",
       "      <th>closing_price</th>\n",
       "      <th>buying_amount</th>\n",
       "    </tr>\n",
       "  </thead>\n",
       "  <tbody>\n",
       "    <tr>\n",
       "      <th>0</th>\n",
       "      <td>AAPL</td>\n",
       "      <td>27</td>\n",
       "      <td>144.839996</td>\n",
       "      <td>3910.679901</td>\n",
       "    </tr>\n",
       "    <tr>\n",
       "      <th>1</th>\n",
       "      <td>MSFT</td>\n",
       "      <td>6</td>\n",
       "      <td>304.209991</td>\n",
       "      <td>1825.259949</td>\n",
       "    </tr>\n",
       "    <tr>\n",
       "      <th>2</th>\n",
       "      <td>GOOG</td>\n",
       "      <td>1</td>\n",
       "      <td>2833.500000</td>\n",
       "      <td>2833.500000</td>\n",
       "    </tr>\n",
       "  </tbody>\n",
       "</table>\n",
       "</div>"
      ],
      "text/plain": [
       "  Ticker  shares_to_buy  closing_price  buying_amount\n",
       "0   AAPL             27     144.839996    3910.679901\n",
       "1   MSFT              6     304.209991    1825.259949\n",
       "2   GOOG              1    2833.500000    2833.500000"
      ]
     },
     "execution_count": 77,
     "metadata": {},
     "output_type": "execute_result"
    }
   ],
   "source": [
    "a = user_selected_analysis_user_weight(get_user_selected_stocks(), get_user_stock_weights(), 10000)\n",
    "a['buying_amount'] = a.shares_to_buy * a.closing_price\n",
    "a"
   ]
  },
  {
   "cell_type": "markdown",
   "id": "e724fe49",
   "metadata": {},
   "source": [
    "APP LOOP"
   ]
  },
  {
   "cell_type": "code",
   "execution_count": 84,
   "id": "b0f58770",
   "metadata": {},
   "outputs": [],
   "source": [
    "def get_correct_input_from_user(text_to_use):\n",
    "    i = input(text_to_use)\n",
    "    got_response = False\n",
    "    while not got_response:\n",
    "        try:\n",
    "            a = int(i)\n",
    "            got_response = True\n",
    "        except ValueError:\n",
    "            print(\"Please enter a correct number...\")\n",
    "            i = input(text_to_use)\n",
    "    return i\n",
    "\n",
    "def get_num_of_stocks():\n",
    "    how_many_stocks = input(\"How many stocks you want to analyse? Enter at least 10 and max 500\\n\")\n",
    "    correct = False\n",
    "    while not correct:\n",
    "        try:\n",
    "            how_many_stocks = int(how_many_stocks)\n",
    "            if how_many_stocks > 500 or how_many_stocks < 10:\n",
    "                raise ValueError\n",
    "            correct = True\n",
    "        except:\n",
    "            print(\"Please enter a correct number. \")\n",
    "            how_many_stocks = input(\"How many stocks you want to analyse? Enter at least 10 and max 500\\n\")\n",
    "    return how_many_stocks\n",
    "\n",
    "def return_classifier_model(x,y):\n",
    "    clf = RandomForestClassifier()\n",
    "    clf.fit(x,y)\n",
    "    return_clf\n",
    "\n",
    "period = 6\n",
    "predicted_prices_for_tomorrow = []\n",
    "volatility_for_stocks = []\n",
    "new_symbols_for_df = []\n",
    "end_day_price = []\n",
    "volumes = []\n",
    "\n",
    "def stock_data_loop():\n",
    "    print(\"Wait for some time, I am analyzing \" + str(how_many_stocks) + \" stocks\")\n",
    "    for current_symbol in listOfSymbols[0:how_many_stocks]:\n",
    "        # Getting the past 6 months of data\n",
    "        if current_symbol not in symbols_not_found:\n",
    "            print(\"Currently, analysing \" + current_symbol + \"........\")\n",
    "            new_symbols_for_df.append(current_symbol)\n",
    "            current_data = yf.download(current_symbol, start = '2021-04-16', end = '2021-10-16')\n",
    "            close_prices = current_data.Close\n",
    "            volumes.append(current_data.Volume[-1])\n",
    "            volatility = close_prices.std()\n",
    "            volatility_for_stocks.append(volatility)\n",
    "            features, dependent_variable = make_x_and_y(list(close_prices))\n",
    "            features = np.array(features)\n",
    "            dependent_variable = np.array(dependent_variable)\n",
    "            clf = return_classifier_model(features,dependent_variable)\n",
    "            latest_feat = np.array(list(close_prices)[-period:]).reshape((1,-1))\n",
    "            tomorrow_prediction = clf.predict(latest_feat)\n",
    "            end_day_price.append(close_prices[-1])\n",
    "            if tomorrow_prediction[0] == 1:\n",
    "                predicted_prices_for_tomorrow.append(\"BUY NOW\")\n",
    "            elif tomorrow_prediction[0] == -1:\n",
    "                predicted_prices_for_tomorrow.append(\"SELL NOW\")\n",
    "    full_data = pd.DataFrame({'symbol':new_symbols_for_df, 'volatility':volatility_for_stocks, 'tomorrow':predicted_prices_for_tomorrow, 'price':end_day_price, 'Volume' : volumes})\n",
    "    return full_data"
   ]
  },
  {
   "cell_type": "code",
   "execution_count": 85,
   "id": "27236129",
   "metadata": {},
   "outputs": [
    {
     "ename": "NameError",
     "evalue": "name 'how_many_stocks' is not defined",
     "output_type": "error",
     "traceback": [
      "\u001b[0;31m---------------------------------------------------------------------------\u001b[0m",
      "\u001b[0;31mNameError\u001b[0m                                 Traceback (most recent call last)",
      "\u001b[0;32m/var/folders/qy/9wqzdwvd1b3bjp8j_h57nlcr0000gn/T/ipykernel_51929/2660893356.py\u001b[0m in \u001b[0;36m<module>\u001b[0;34m\u001b[0m\n\u001b[0;32m----> 1\u001b[0;31m \u001b[0ma\u001b[0m \u001b[0;34m=\u001b[0m \u001b[0mstock_data_loop\u001b[0m\u001b[0;34m(\u001b[0m\u001b[0;34m)\u001b[0m\u001b[0;34m\u001b[0m\u001b[0;34m\u001b[0m\u001b[0m\n\u001b[0m",
      "\u001b[0;32m/var/folders/qy/9wqzdwvd1b3bjp8j_h57nlcr0000gn/T/ipykernel_51929/2491307965.py\u001b[0m in \u001b[0;36mstock_data_loop\u001b[0;34m()\u001b[0m\n\u001b[1;32m     38\u001b[0m \u001b[0;34m\u001b[0m\u001b[0m\n\u001b[1;32m     39\u001b[0m \u001b[0;32mdef\u001b[0m \u001b[0mstock_data_loop\u001b[0m\u001b[0;34m(\u001b[0m\u001b[0;34m)\u001b[0m\u001b[0;34m:\u001b[0m\u001b[0;34m\u001b[0m\u001b[0;34m\u001b[0m\u001b[0m\n\u001b[0;32m---> 40\u001b[0;31m     \u001b[0mprint\u001b[0m\u001b[0;34m(\u001b[0m\u001b[0;34m\"Wait for some time, I am analyzing \"\u001b[0m \u001b[0;34m+\u001b[0m \u001b[0mstr\u001b[0m\u001b[0;34m(\u001b[0m\u001b[0mhow_many_stocks\u001b[0m\u001b[0;34m)\u001b[0m \u001b[0;34m+\u001b[0m \u001b[0;34m\" stocks\"\u001b[0m\u001b[0;34m)\u001b[0m\u001b[0;34m\u001b[0m\u001b[0;34m\u001b[0m\u001b[0m\n\u001b[0m\u001b[1;32m     41\u001b[0m     \u001b[0;32mfor\u001b[0m \u001b[0mcurrent_symbol\u001b[0m \u001b[0;32min\u001b[0m \u001b[0mlistOfSymbols\u001b[0m\u001b[0;34m[\u001b[0m\u001b[0;36m0\u001b[0m\u001b[0;34m:\u001b[0m\u001b[0mhow_many_stocks\u001b[0m\u001b[0;34m]\u001b[0m\u001b[0;34m:\u001b[0m\u001b[0;34m\u001b[0m\u001b[0;34m\u001b[0m\u001b[0m\n\u001b[1;32m     42\u001b[0m         \u001b[0;31m# Getting the past 6 months of data\u001b[0m\u001b[0;34m\u001b[0m\u001b[0;34m\u001b[0m\u001b[0m\n",
      "\u001b[0;31mNameError\u001b[0m: name 'how_many_stocks' is not defined"
     ]
    }
   ],
   "source": [
    "income = get_correct_input_from_user(text_to_use = 'How much money do you ahve to invest?')\n",
    "time.sleep(2)\n",
    "print('Do you wish to add your own stocks or want ML to re')"
   ]
  }
 ],
 "metadata": {
  "kernelspec": {
   "display_name": "Python 3 (ipykernel)",
   "language": "python",
   "name": "python3"
  },
  "language_info": {
   "codemirror_mode": {
    "name": "ipython",
    "version": 3
   },
   "file_extension": ".py",
   "mimetype": "text/x-python",
   "name": "python",
   "nbconvert_exporter": "python",
   "pygments_lexer": "ipython3",
   "version": "3.9.7"
  }
 },
 "nbformat": 4,
 "nbformat_minor": 5
}
